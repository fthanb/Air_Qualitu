{
  "cells": [
    {
      "cell_type": "markdown",
      "metadata": {
        "id": "H9wADwK78DCz"
      },
      "source": [
        "# Proyek Analisis Data: [Air Quality Dataset]\n",
        "- **Nama:** [Muhammad Fathan Mukhlisan]\n",
        "- **Email:** [famukh16@gmail.com]\n",
        "- **ID Dicoding:** [Input Username]"
      ]
    },
    {
      "cell_type": "markdown",
      "metadata": {
        "id": "eE0raob58DC0"
      },
      "source": [
        "## Pertanyaan Bisnis"
      ]
    },
    {
      "cell_type": "markdown",
      "metadata": {
        "id": "GmQeQ5YF8DC0"
      },
      "source": [
        "1. Apakah aman kualitas udara di sekitar Guanyuan berdasarkan waktu?\n",
        "2. Bagaimana tingkat temperatur udara dan curah hujan pada musim-musim di sekitar Guanyuan?\n",
        "3. Kemana arah angin dan berapa kecepatan angin berdasarkan musim-musim di sekitar Guanyuan?\n"
      ]
    },
    {
      "cell_type": "markdown",
      "metadata": {
        "id": "H-z4QGlO8DC1"
      },
      "source": [
        "## Import Library"
      ]
    },
    {
      "cell_type": "code",
      "execution_count": 2,
      "metadata": {
        "id": "FVYwaObI8DC1"
      },
      "outputs": [],
      "source": [
        "import numpy as np\n",
        "import pandas as pd\n",
        "import matplotlib.pyplot as plt\n",
        "import seaborn as sns"
      ]
    },
    {
      "cell_type": "markdown",
      "metadata": {
        "id": "h_Sh51Xy8DC1"
      },
      "source": [
        "## Data Wrangling"
      ]
    },
    {
      "cell_type": "markdown",
      "metadata": {
        "id": "sXU2GBYu8DC1"
      },
      "source": [
        "### Gathering Data"
      ]
    },
    {
      "cell_type": "code",
      "execution_count": 3,
      "metadata": {
        "id": "zjCBk1BI8DC1"
      },
      "outputs": [
        {
          "data": {
            "text/html": [
              "<div>\n",
              "<style scoped>\n",
              "    .dataframe tbody tr th:only-of-type {\n",
              "        vertical-align: middle;\n",
              "    }\n",
              "\n",
              "    .dataframe tbody tr th {\n",
              "        vertical-align: top;\n",
              "    }\n",
              "\n",
              "    .dataframe thead th {\n",
              "        text-align: right;\n",
              "    }\n",
              "</style>\n",
              "<table border=\"1\" class=\"dataframe\">\n",
              "  <thead>\n",
              "    <tr style=\"text-align: right;\">\n",
              "      <th></th>\n",
              "      <th>No</th>\n",
              "      <th>year</th>\n",
              "      <th>month</th>\n",
              "      <th>day</th>\n",
              "      <th>hour</th>\n",
              "      <th>PM2.5</th>\n",
              "      <th>PM10</th>\n",
              "      <th>SO2</th>\n",
              "      <th>NO2</th>\n",
              "      <th>CO</th>\n",
              "      <th>O3</th>\n",
              "      <th>TEMP</th>\n",
              "      <th>PRES</th>\n",
              "      <th>DEWP</th>\n",
              "      <th>RAIN</th>\n",
              "      <th>wd</th>\n",
              "      <th>WSPM</th>\n",
              "      <th>station</th>\n",
              "    </tr>\n",
              "  </thead>\n",
              "  <tbody>\n",
              "    <tr>\n",
              "      <th>0</th>\n",
              "      <td>1</td>\n",
              "      <td>2013</td>\n",
              "      <td>3</td>\n",
              "      <td>1</td>\n",
              "      <td>0</td>\n",
              "      <td>4.0</td>\n",
              "      <td>4.0</td>\n",
              "      <td>14.0</td>\n",
              "      <td>20.0</td>\n",
              "      <td>300.0</td>\n",
              "      <td>69.0</td>\n",
              "      <td>-0.7</td>\n",
              "      <td>1023.0</td>\n",
              "      <td>-18.8</td>\n",
              "      <td>0.0</td>\n",
              "      <td>NNW</td>\n",
              "      <td>4.4</td>\n",
              "      <td>Guanyuan</td>\n",
              "    </tr>\n",
              "    <tr>\n",
              "      <th>1</th>\n",
              "      <td>2</td>\n",
              "      <td>2013</td>\n",
              "      <td>3</td>\n",
              "      <td>1</td>\n",
              "      <td>1</td>\n",
              "      <td>4.0</td>\n",
              "      <td>4.0</td>\n",
              "      <td>13.0</td>\n",
              "      <td>17.0</td>\n",
              "      <td>300.0</td>\n",
              "      <td>72.0</td>\n",
              "      <td>-1.1</td>\n",
              "      <td>1023.2</td>\n",
              "      <td>-18.2</td>\n",
              "      <td>0.0</td>\n",
              "      <td>N</td>\n",
              "      <td>4.7</td>\n",
              "      <td>Guanyuan</td>\n",
              "    </tr>\n",
              "    <tr>\n",
              "      <th>2</th>\n",
              "      <td>3</td>\n",
              "      <td>2013</td>\n",
              "      <td>3</td>\n",
              "      <td>1</td>\n",
              "      <td>2</td>\n",
              "      <td>3.0</td>\n",
              "      <td>3.0</td>\n",
              "      <td>10.0</td>\n",
              "      <td>19.0</td>\n",
              "      <td>300.0</td>\n",
              "      <td>69.0</td>\n",
              "      <td>-1.1</td>\n",
              "      <td>1023.5</td>\n",
              "      <td>-18.2</td>\n",
              "      <td>0.0</td>\n",
              "      <td>NNW</td>\n",
              "      <td>5.6</td>\n",
              "      <td>Guanyuan</td>\n",
              "    </tr>\n",
              "    <tr>\n",
              "      <th>3</th>\n",
              "      <td>4</td>\n",
              "      <td>2013</td>\n",
              "      <td>3</td>\n",
              "      <td>1</td>\n",
              "      <td>3</td>\n",
              "      <td>3.0</td>\n",
              "      <td>6.0</td>\n",
              "      <td>7.0</td>\n",
              "      <td>24.0</td>\n",
              "      <td>400.0</td>\n",
              "      <td>62.0</td>\n",
              "      <td>-1.4</td>\n",
              "      <td>1024.5</td>\n",
              "      <td>-19.4</td>\n",
              "      <td>0.0</td>\n",
              "      <td>NW</td>\n",
              "      <td>3.1</td>\n",
              "      <td>Guanyuan</td>\n",
              "    </tr>\n",
              "    <tr>\n",
              "      <th>4</th>\n",
              "      <td>5</td>\n",
              "      <td>2013</td>\n",
              "      <td>3</td>\n",
              "      <td>1</td>\n",
              "      <td>4</td>\n",
              "      <td>3.0</td>\n",
              "      <td>6.0</td>\n",
              "      <td>5.0</td>\n",
              "      <td>14.0</td>\n",
              "      <td>400.0</td>\n",
              "      <td>71.0</td>\n",
              "      <td>-2.0</td>\n",
              "      <td>1025.2</td>\n",
              "      <td>-19.5</td>\n",
              "      <td>0.0</td>\n",
              "      <td>N</td>\n",
              "      <td>2.0</td>\n",
              "      <td>Guanyuan</td>\n",
              "    </tr>\n",
              "  </tbody>\n",
              "</table>\n",
              "</div>"
            ],
            "text/plain": [
              "   No  year  month  day  hour  PM2.5  PM10   SO2   NO2     CO    O3  TEMP  \\\n",
              "0   1  2013      3    1     0    4.0   4.0  14.0  20.0  300.0  69.0  -0.7   \n",
              "1   2  2013      3    1     1    4.0   4.0  13.0  17.0  300.0  72.0  -1.1   \n",
              "2   3  2013      3    1     2    3.0   3.0  10.0  19.0  300.0  69.0  -1.1   \n",
              "3   4  2013      3    1     3    3.0   6.0   7.0  24.0  400.0  62.0  -1.4   \n",
              "4   5  2013      3    1     4    3.0   6.0   5.0  14.0  400.0  71.0  -2.0   \n",
              "\n",
              "     PRES  DEWP  RAIN   wd  WSPM   station  \n",
              "0  1023.0 -18.8   0.0  NNW   4.4  Guanyuan  \n",
              "1  1023.2 -18.2   0.0    N   4.7  Guanyuan  \n",
              "2  1023.5 -18.2   0.0  NNW   5.6  Guanyuan  \n",
              "3  1024.5 -19.4   0.0   NW   3.1  Guanyuan  \n",
              "4  1025.2 -19.5   0.0    N   2.0  Guanyuan  "
            ]
          },
          "execution_count": 3,
          "metadata": {},
          "output_type": "execute_result"
        }
      ],
      "source": [
        "gy_df = pd.read_csv(\"data/PRSA_Data_Guanyuan_20130301-20170228.csv\", delimiter=\",\")\n",
        "gy_df.head()"
      ]
    },
    {
      "cell_type": "markdown",
      "metadata": {
        "id": "FHSiqaZp8DC1"
      },
      "source": [
        "### Assessing Data"
      ]
    },
    {
      "cell_type": "code",
      "execution_count": 4,
      "metadata": {
        "id": "ax-3tEjc9Cj1"
      },
      "outputs": [
        {
          "name": "stdout",
          "output_type": "stream",
          "text": [
            "<class 'pandas.core.frame.DataFrame'>\n",
            "RangeIndex: 35064 entries, 0 to 35063\n",
            "Data columns (total 18 columns):\n",
            " #   Column   Non-Null Count  Dtype  \n",
            "---  ------   --------------  -----  \n",
            " 0   No       35064 non-null  int64  \n",
            " 1   year     35064 non-null  int64  \n",
            " 2   month    35064 non-null  int64  \n",
            " 3   day      35064 non-null  int64  \n",
            " 4   hour     35064 non-null  int64  \n",
            " 5   PM2.5    34448 non-null  float64\n",
            " 6   PM10     34635 non-null  float64\n",
            " 7   SO2      34590 non-null  float64\n",
            " 8   NO2      34405 non-null  float64\n",
            " 9   CO       33311 non-null  float64\n",
            " 10  O3       33891 non-null  float64\n",
            " 11  TEMP     35044 non-null  float64\n",
            " 12  PRES     35044 non-null  float64\n",
            " 13  DEWP     35044 non-null  float64\n",
            " 14  RAIN     35044 non-null  float64\n",
            " 15  wd       34983 non-null  object \n",
            " 16  WSPM     35050 non-null  float64\n",
            " 17  station  35064 non-null  object \n",
            "dtypes: float64(11), int64(5), object(2)\n",
            "memory usage: 4.8+ MB\n",
            "\n",
            "Total Duplikat : 0\n"
          ]
        }
      ],
      "source": [
        "gy_df.info()\n",
        "\n",
        "gy_df.isnull().sum()\n",
        "\n",
        "print(\"\\nTotal Duplikat :\", gy_df.duplicated().sum())"
      ]
    },
    {
      "cell_type": "code",
      "execution_count": 5,
      "metadata": {},
      "outputs": [
        {
          "data": {
            "text/html": [
              "<div>\n",
              "<style scoped>\n",
              "    .dataframe tbody tr th:only-of-type {\n",
              "        vertical-align: middle;\n",
              "    }\n",
              "\n",
              "    .dataframe tbody tr th {\n",
              "        vertical-align: top;\n",
              "    }\n",
              "\n",
              "    .dataframe thead th {\n",
              "        text-align: right;\n",
              "    }\n",
              "</style>\n",
              "<table border=\"1\" class=\"dataframe\">\n",
              "  <thead>\n",
              "    <tr style=\"text-align: right;\">\n",
              "      <th></th>\n",
              "      <th>No</th>\n",
              "      <th>year</th>\n",
              "      <th>month</th>\n",
              "      <th>day</th>\n",
              "      <th>hour</th>\n",
              "      <th>PM2.5</th>\n",
              "      <th>PM10</th>\n",
              "      <th>SO2</th>\n",
              "      <th>NO2</th>\n",
              "      <th>CO</th>\n",
              "      <th>O3</th>\n",
              "      <th>TEMP</th>\n",
              "      <th>PRES</th>\n",
              "      <th>DEWP</th>\n",
              "      <th>RAIN</th>\n",
              "      <th>WSPM</th>\n",
              "    </tr>\n",
              "  </thead>\n",
              "  <tbody>\n",
              "    <tr>\n",
              "      <th>count</th>\n",
              "      <td>35064.000000</td>\n",
              "      <td>35064.000000</td>\n",
              "      <td>35064.000000</td>\n",
              "      <td>35064.000000</td>\n",
              "      <td>35064.000000</td>\n",
              "      <td>34448.000000</td>\n",
              "      <td>34635.000000</td>\n",
              "      <td>34590.000000</td>\n",
              "      <td>34405.000000</td>\n",
              "      <td>33311.000000</td>\n",
              "      <td>33891.000000</td>\n",
              "      <td>35044.000000</td>\n",
              "      <td>35044.000000</td>\n",
              "      <td>35044.000000</td>\n",
              "      <td>35044.000000</td>\n",
              "      <td>35050.000000</td>\n",
              "    </tr>\n",
              "    <tr>\n",
              "      <th>mean</th>\n",
              "      <td>17532.500000</td>\n",
              "      <td>2014.662560</td>\n",
              "      <td>6.522930</td>\n",
              "      <td>15.729637</td>\n",
              "      <td>11.500000</td>\n",
              "      <td>82.933372</td>\n",
              "      <td>109.023303</td>\n",
              "      <td>17.590941</td>\n",
              "      <td>57.901643</td>\n",
              "      <td>1271.294377</td>\n",
              "      <td>55.795044</td>\n",
              "      <td>13.584607</td>\n",
              "      <td>1011.846920</td>\n",
              "      <td>3.123062</td>\n",
              "      <td>0.067421</td>\n",
              "      <td>1.708496</td>\n",
              "    </tr>\n",
              "    <tr>\n",
              "      <th>std</th>\n",
              "      <td>10122.249256</td>\n",
              "      <td>1.177213</td>\n",
              "      <td>3.448752</td>\n",
              "      <td>8.800218</td>\n",
              "      <td>6.922285</td>\n",
              "      <td>80.933497</td>\n",
              "      <td>91.573709</td>\n",
              "      <td>23.600367</td>\n",
              "      <td>35.150857</td>\n",
              "      <td>1164.854945</td>\n",
              "      <td>57.436983</td>\n",
              "      <td>11.399097</td>\n",
              "      <td>10.404047</td>\n",
              "      <td>13.688896</td>\n",
              "      <td>0.910056</td>\n",
              "      <td>1.204071</td>\n",
              "    </tr>\n",
              "    <tr>\n",
              "      <th>min</th>\n",
              "      <td>1.000000</td>\n",
              "      <td>2013.000000</td>\n",
              "      <td>1.000000</td>\n",
              "      <td>1.000000</td>\n",
              "      <td>0.000000</td>\n",
              "      <td>2.000000</td>\n",
              "      <td>2.000000</td>\n",
              "      <td>1.000000</td>\n",
              "      <td>2.000000</td>\n",
              "      <td>100.000000</td>\n",
              "      <td>0.214200</td>\n",
              "      <td>-16.800000</td>\n",
              "      <td>985.900000</td>\n",
              "      <td>-35.300000</td>\n",
              "      <td>0.000000</td>\n",
              "      <td>0.000000</td>\n",
              "    </tr>\n",
              "    <tr>\n",
              "      <th>25%</th>\n",
              "      <td>8766.750000</td>\n",
              "      <td>2014.000000</td>\n",
              "      <td>4.000000</td>\n",
              "      <td>8.000000</td>\n",
              "      <td>5.750000</td>\n",
              "      <td>23.000000</td>\n",
              "      <td>40.000000</td>\n",
              "      <td>3.000000</td>\n",
              "      <td>31.000000</td>\n",
              "      <td>500.000000</td>\n",
              "      <td>7.000000</td>\n",
              "      <td>3.100000</td>\n",
              "      <td>1003.300000</td>\n",
              "      <td>-8.100000</td>\n",
              "      <td>0.000000</td>\n",
              "      <td>0.900000</td>\n",
              "    </tr>\n",
              "    <tr>\n",
              "      <th>50%</th>\n",
              "      <td>17532.500000</td>\n",
              "      <td>2015.000000</td>\n",
              "      <td>7.000000</td>\n",
              "      <td>16.000000</td>\n",
              "      <td>11.500000</td>\n",
              "      <td>59.000000</td>\n",
              "      <td>89.000000</td>\n",
              "      <td>8.000000</td>\n",
              "      <td>51.000000</td>\n",
              "      <td>900.000000</td>\n",
              "      <td>41.000000</td>\n",
              "      <td>14.500000</td>\n",
              "      <td>1011.400000</td>\n",
              "      <td>3.800000</td>\n",
              "      <td>0.000000</td>\n",
              "      <td>1.400000</td>\n",
              "    </tr>\n",
              "    <tr>\n",
              "      <th>75%</th>\n",
              "      <td>26298.250000</td>\n",
              "      <td>2016.000000</td>\n",
              "      <td>10.000000</td>\n",
              "      <td>23.000000</td>\n",
              "      <td>17.250000</td>\n",
              "      <td>115.000000</td>\n",
              "      <td>149.000000</td>\n",
              "      <td>22.000000</td>\n",
              "      <td>78.000000</td>\n",
              "      <td>1600.000000</td>\n",
              "      <td>81.000000</td>\n",
              "      <td>23.300000</td>\n",
              "      <td>1020.100000</td>\n",
              "      <td>15.600000</td>\n",
              "      <td>0.000000</td>\n",
              "      <td>2.200000</td>\n",
              "    </tr>\n",
              "    <tr>\n",
              "      <th>max</th>\n",
              "      <td>35064.000000</td>\n",
              "      <td>2017.000000</td>\n",
              "      <td>12.000000</td>\n",
              "      <td>31.000000</td>\n",
              "      <td>23.000000</td>\n",
              "      <td>680.000000</td>\n",
              "      <td>999.000000</td>\n",
              "      <td>293.000000</td>\n",
              "      <td>270.000000</td>\n",
              "      <td>10000.000000</td>\n",
              "      <td>415.000000</td>\n",
              "      <td>40.500000</td>\n",
              "      <td>1042.000000</td>\n",
              "      <td>28.500000</td>\n",
              "      <td>72.500000</td>\n",
              "      <td>11.200000</td>\n",
              "    </tr>\n",
              "  </tbody>\n",
              "</table>\n",
              "</div>"
            ],
            "text/plain": [
              "                 No          year         month           day          hour  \\\n",
              "count  35064.000000  35064.000000  35064.000000  35064.000000  35064.000000   \n",
              "mean   17532.500000   2014.662560      6.522930     15.729637     11.500000   \n",
              "std    10122.249256      1.177213      3.448752      8.800218      6.922285   \n",
              "min        1.000000   2013.000000      1.000000      1.000000      0.000000   \n",
              "25%     8766.750000   2014.000000      4.000000      8.000000      5.750000   \n",
              "50%    17532.500000   2015.000000      7.000000     16.000000     11.500000   \n",
              "75%    26298.250000   2016.000000     10.000000     23.000000     17.250000   \n",
              "max    35064.000000   2017.000000     12.000000     31.000000     23.000000   \n",
              "\n",
              "              PM2.5          PM10           SO2           NO2            CO  \\\n",
              "count  34448.000000  34635.000000  34590.000000  34405.000000  33311.000000   \n",
              "mean      82.933372    109.023303     17.590941     57.901643   1271.294377   \n",
              "std       80.933497     91.573709     23.600367     35.150857   1164.854945   \n",
              "min        2.000000      2.000000      1.000000      2.000000    100.000000   \n",
              "25%       23.000000     40.000000      3.000000     31.000000    500.000000   \n",
              "50%       59.000000     89.000000      8.000000     51.000000    900.000000   \n",
              "75%      115.000000    149.000000     22.000000     78.000000   1600.000000   \n",
              "max      680.000000    999.000000    293.000000    270.000000  10000.000000   \n",
              "\n",
              "                 O3          TEMP          PRES          DEWP          RAIN  \\\n",
              "count  33891.000000  35044.000000  35044.000000  35044.000000  35044.000000   \n",
              "mean      55.795044     13.584607   1011.846920      3.123062      0.067421   \n",
              "std       57.436983     11.399097     10.404047     13.688896      0.910056   \n",
              "min        0.214200    -16.800000    985.900000    -35.300000      0.000000   \n",
              "25%        7.000000      3.100000   1003.300000     -8.100000      0.000000   \n",
              "50%       41.000000     14.500000   1011.400000      3.800000      0.000000   \n",
              "75%       81.000000     23.300000   1020.100000     15.600000      0.000000   \n",
              "max      415.000000     40.500000   1042.000000     28.500000     72.500000   \n",
              "\n",
              "               WSPM  \n",
              "count  35050.000000  \n",
              "mean       1.708496  \n",
              "std        1.204071  \n",
              "min        0.000000  \n",
              "25%        0.900000  \n",
              "50%        1.400000  \n",
              "75%        2.200000  \n",
              "max       11.200000  "
            ]
          },
          "execution_count": 5,
          "metadata": {},
          "output_type": "execute_result"
        }
      ],
      "source": [
        "gy_df.describe()"
      ]
    },
    {
      "cell_type": "markdown",
      "metadata": {
        "id": "7dtxhAPrkhPL"
      },
      "source": [
        "**Insight:**\n",
        "- Terdapat value null di beberapa atribut\n",
        "- Terdapat value inaccurate (maksimum yang mungkin melebihi batas)"
      ]
    },
    {
      "cell_type": "markdown",
      "metadata": {
        "id": "EhN5R4hr8DC1"
      },
      "source": [
        "### Cleaning Data"
      ]
    },
    {
      "cell_type": "code",
      "execution_count": 6,
      "metadata": {
        "id": "jVnYpprE9Evz"
      },
      "outputs": [],
      "source": [
        "means = gy_df[['PM2.5', 'PM10', 'SO2', 'NO2', 'CO', 'O3', 'TEMP']].mean()\n",
        "\n",
        "gy_df[['PM2.5', 'PM10', 'SO2', 'NO2', 'CO', 'O3', 'TEMP']] = gy_df[['PM2.5', 'PM10', 'SO2', 'NO2', 'CO', 'O3', 'TEMP']].fillna(means)"
      ]
    },
    {
      "cell_type": "code",
      "execution_count": 7,
      "metadata": {},
      "outputs": [],
      "source": [
        "value = {\n",
        "    'PM2.5': 125, 'PM10': 150, 'SO2': 50, 'NO2': 100, 'CO': 2000, 'O3': 120\n",
        "}\n",
        "\n",
        "for atribut, nilai_perkiraan in value.items():\n",
        "    maksimum = gy_df[atribut].max()\n",
        "    gy_df[atribut] = gy_df[atribut].replace(maksimum, nilai_perkiraan)\n",
        "        "
      ]
    },
    {
      "cell_type": "markdown",
      "metadata": {
        "id": "Q_5ejIqckiSP"
      },
      "source": [
        "**Insight:**\n",
        "- Hanya mengisi value null di atribut PM2.5, PM10, SO2, NO2, CO, TEMP karena untuk menghitung kualitas dan temperatur udara\n",
        "- Mengisi value inaccurate dengan value perkiraan jika kemungkinan data di IQR 100%"
      ]
    },
    {
      "cell_type": "markdown",
      "metadata": {
        "id": "gp-Y6wU38DC1"
      },
      "source": [
        "## Exploratory Data Analysis (EDA)"
      ]
    },
    {
      "cell_type": "markdown",
      "metadata": {
        "id": "MW7WF2kr8DC1"
      },
      "source": [
        "### Explore ..."
      ]
    },
    {
      "cell_type": "code",
      "execution_count": 10,
      "metadata": {
        "id": "e9CQCZjk8DC2"
      },
      "outputs": [],
      "source": [
        "def waktu(hour):\n",
        "    if 4 <= hour <= 9:\n",
        "        return \"Pagi\"\n",
        "    elif 10 <= hour <= 15:\n",
        "        return \"Siang\"\n",
        "    else:\n",
        "        return \"Malam\"   \n",
        "gy_df['waktu'] = gy_df['hour'].apply(waktu)\n",
        "\n",
        "def musim(month):\n",
        "    if month in [12, 1, 2]:\n",
        "        return \"Dingin\"\n",
        "    elif month in [3, 4, 5]:\n",
        "        return \"Semi\"\n",
        "    elif month in [6, 7, 8]:\n",
        "        return \"Panas\"\n",
        "    elif month in [9, 10, 11]:\n",
        "        return \"Gugur\"\n",
        "gy_df['musim'] = gy_df['month'].apply(musim)\n"
      ]
    },
    {
      "cell_type": "markdown",
      "metadata": {},
      "source": [
        "waktu untuk membagi hour menjadi 3 (Pagi, Siang, Malam) dan musim (Semi, Panas, Gugur, Dingin) kemudian kolom ditambahkan ke DataFrame"
      ]
    },
    {
      "cell_type": "code",
      "execution_count": 11,
      "metadata": {},
      "outputs": [
        {
          "data": {
            "text/html": [
              "<div>\n",
              "<style scoped>\n",
              "    .dataframe tbody tr th:only-of-type {\n",
              "        vertical-align: middle;\n",
              "    }\n",
              "\n",
              "    .dataframe tbody tr th {\n",
              "        vertical-align: top;\n",
              "    }\n",
              "\n",
              "    .dataframe thead th {\n",
              "        text-align: right;\n",
              "    }\n",
              "</style>\n",
              "<table border=\"1\" class=\"dataframe\">\n",
              "  <thead>\n",
              "    <tr style=\"text-align: right;\">\n",
              "      <th></th>\n",
              "      <th>PM2.5</th>\n",
              "      <th>PM10</th>\n",
              "      <th>SO2</th>\n",
              "      <th>NO2</th>\n",
              "      <th>CO</th>\n",
              "      <th>O3</th>\n",
              "    </tr>\n",
              "    <tr>\n",
              "      <th>waktu</th>\n",
              "      <th></th>\n",
              "      <th></th>\n",
              "      <th></th>\n",
              "      <th></th>\n",
              "      <th></th>\n",
              "      <th></th>\n",
              "    </tr>\n",
              "  </thead>\n",
              "  <tbody>\n",
              "    <tr>\n",
              "      <th>Malam</th>\n",
              "      <td>86.489220</td>\n",
              "      <td>116.028151</td>\n",
              "      <td>17.283814</td>\n",
              "      <td>60.427245</td>\n",
              "      <td>1276.473570</td>\n",
              "      <td>60.986080</td>\n",
              "    </tr>\n",
              "    <tr>\n",
              "      <th>Pagi</th>\n",
              "      <td>80.082912</td>\n",
              "      <td>102.926271</td>\n",
              "      <td>16.874412</td>\n",
              "      <td>61.359109</td>\n",
              "      <td>1344.453367</td>\n",
              "      <td>26.975040</td>\n",
              "    </tr>\n",
              "    <tr>\n",
              "      <th>Siang</th>\n",
              "      <td>78.608823</td>\n",
              "      <td>101.013787</td>\n",
              "      <td>18.894005</td>\n",
              "      <td>49.373577</td>\n",
              "      <td>1181.388682</td>\n",
              "      <td>74.199324</td>\n",
              "    </tr>\n",
              "  </tbody>\n",
              "</table>\n",
              "</div>"
            ],
            "text/plain": [
              "           PM2.5        PM10        SO2        NO2           CO         O3\n",
              "waktu                                                                     \n",
              "Malam  86.489220  116.028151  17.283814  60.427245  1276.473570  60.986080\n",
              "Pagi   80.082912  102.926271  16.874412  61.359109  1344.453367  26.975040\n",
              "Siang  78.608823  101.013787  18.894005  49.373577  1181.388682  74.199324"
            ]
          },
          "execution_count": 11,
          "metadata": {},
          "output_type": "execute_result"
        }
      ],
      "source": [
        "tingkat_polusi = gy_df.groupby(by ='waktu').agg({\n",
        "        \"PM2.5\" : \"mean\",\n",
        "        \"PM10\" : \"mean\",\n",
        "        \"SO2\" : \"mean\",\n",
        "        \"NO2\" : \"mean\",\n",
        "        \"CO\" : \"mean\",\n",
        "        \"O3\" : \"mean\"}).sort_values(by = 'waktu')\n",
        "\n",
        "tingkat_polusi"
      ]
    },
    {
      "cell_type": "markdown",
      "metadata": {},
      "source": [
        "Menghitung rata-rata tingkat partikel (polusi) berdasarkan waktu"
      ]
    },
    {
      "cell_type": "code",
      "execution_count": 12,
      "metadata": {},
      "outputs": [
        {
          "data": {
            "text/html": [
              "<div>\n",
              "<style scoped>\n",
              "    .dataframe tbody tr th:only-of-type {\n",
              "        vertical-align: middle;\n",
              "    }\n",
              "\n",
              "    .dataframe tbody tr th {\n",
              "        vertical-align: top;\n",
              "    }\n",
              "\n",
              "    .dataframe thead th {\n",
              "        text-align: right;\n",
              "    }\n",
              "</style>\n",
              "<table border=\"1\" class=\"dataframe\">\n",
              "  <thead>\n",
              "    <tr style=\"text-align: right;\">\n",
              "      <th></th>\n",
              "      <th>TEMP</th>\n",
              "      <th>RAIN</th>\n",
              "    </tr>\n",
              "    <tr>\n",
              "      <th>musim</th>\n",
              "      <th></th>\n",
              "      <th></th>\n",
              "    </tr>\n",
              "  </thead>\n",
              "  <tbody>\n",
              "    <tr>\n",
              "      <th>Dingin</th>\n",
              "      <td>-0.178540</td>\n",
              "      <td>0.003757</td>\n",
              "    </tr>\n",
              "    <tr>\n",
              "      <th>Gugur</th>\n",
              "      <td>13.033148</td>\n",
              "      <td>0.057177</td>\n",
              "    </tr>\n",
              "    <tr>\n",
              "      <th>Panas</th>\n",
              "      <td>26.174615</td>\n",
              "      <td>0.180616</td>\n",
              "    </tr>\n",
              "    <tr>\n",
              "      <th>Semi</th>\n",
              "      <td>15.041413</td>\n",
              "      <td>0.026710</td>\n",
              "    </tr>\n",
              "  </tbody>\n",
              "</table>\n",
              "</div>"
            ],
            "text/plain": [
              "             TEMP      RAIN\n",
              "musim                      \n",
              "Dingin  -0.178540  0.003757\n",
              "Gugur   13.033148  0.057177\n",
              "Panas   26.174615  0.180616\n",
              "Semi    15.041413  0.026710"
            ]
          },
          "execution_count": 12,
          "metadata": {},
          "output_type": "execute_result"
        }
      ],
      "source": [
        "temp_hujan = gy_df.groupby(by='musim').agg({\n",
        "    \"TEMP\": \"mean\",\n",
        "    \"RAIN\": \"mean\"\n",
        "}).sort_values(by='musim')\n",
        "\n",
        "temp_hujan"
      ]
    },
    {
      "cell_type": "markdown",
      "metadata": {},
      "source": [
        "Menghitung rata-rata suhu dan curah hujan berdasarkan waktu"
      ]
    },
    {
      "cell_type": "code",
      "execution_count": 13,
      "metadata": {},
      "outputs": [
        {
          "data": {
            "text/html": [
              "<div>\n",
              "<style scoped>\n",
              "    .dataframe tbody tr th:only-of-type {\n",
              "        vertical-align: middle;\n",
              "    }\n",
              "\n",
              "    .dataframe tbody tr th {\n",
              "        vertical-align: top;\n",
              "    }\n",
              "\n",
              "    .dataframe thead th {\n",
              "        text-align: right;\n",
              "    }\n",
              "</style>\n",
              "<table border=\"1\" class=\"dataframe\">\n",
              "  <thead>\n",
              "    <tr style=\"text-align: right;\">\n",
              "      <th></th>\n",
              "      <th>wd</th>\n",
              "      <th>WSPM</th>\n",
              "    </tr>\n",
              "    <tr>\n",
              "      <th>musim</th>\n",
              "      <th></th>\n",
              "      <th></th>\n",
              "    </tr>\n",
              "  </thead>\n",
              "  <tbody>\n",
              "    <tr>\n",
              "      <th>Dingin</th>\n",
              "      <td>NE</td>\n",
              "      <td>1.867163</td>\n",
              "    </tr>\n",
              "    <tr>\n",
              "      <th>Gugur</th>\n",
              "      <td>NE</td>\n",
              "      <td>1.408498</td>\n",
              "    </tr>\n",
              "    <tr>\n",
              "      <th>Panas</th>\n",
              "      <td>NE</td>\n",
              "      <td>1.477197</td>\n",
              "    </tr>\n",
              "    <tr>\n",
              "      <th>Semi</th>\n",
              "      <td>SW</td>\n",
              "      <td>2.080876</td>\n",
              "    </tr>\n",
              "  </tbody>\n",
              "</table>\n",
              "</div>"
            ],
            "text/plain": [
              "        wd      WSPM\n",
              "musim               \n",
              "Dingin  NE  1.867163\n",
              "Gugur   NE  1.408498\n",
              "Panas   NE  1.477197\n",
              "Semi    SW  2.080876"
            ]
          },
          "execution_count": 13,
          "metadata": {},
          "output_type": "execute_result"
        }
      ],
      "source": [
        "arah_angin = gy_df.groupby(by='musim').agg({\n",
        "    'wd': lambda x: x.mode()[0], \n",
        "    'WSPM': 'mean'\n",
        "}).sort_values(by='musim')\n",
        "\n",
        "arah_angin"
      ]
    },
    {
      "cell_type": "markdown",
      "metadata": {},
      "source": [
        "Menentukan arah angin lebih sering kemana dengan rata-rata kecepatan angin"
      ]
    },
    {
      "cell_type": "markdown",
      "metadata": {
        "id": "zsyZjqak8DC2"
      },
      "source": [
        "## Visualization & Explanatory Analysis"
      ]
    },
    {
      "cell_type": "markdown",
      "metadata": {
        "id": "HZxOiQ6n8DC2"
      },
      "source": [
        "### Pertanyaan 1:"
      ]
    },
    {
      "cell_type": "code",
      "execution_count": 14,
      "metadata": {
        "id": "1swJUdAD8DC2"
      },
      "outputs": [
        {
          "data": {
            "image/png": "[encoded data removed]",
            "text/plain": [
              "<Figure size 800x500 with 1 Axes>"
            ]
          },
          "metadata": {},
          "output_type": "display_data"
        },
        {
          "data": {
            "image/png": "[encoded data removed]",
            "text/plain": [
              "<Figure size 800x500 with 1 Axes>"
            ]
          },
          "metadata": {},
          "output_type": "display_data"
        },
        {
          "data": {
            "image/png": "[encoded data removed]",
            "text/plain": [
              "<Figure size 800x500 with 1 Axes>"
            ]
          },
          "metadata": {},
          "output_type": "display_data"
        },
        {
          "data": {
            "image/png": "[encoded data removed]",
            "text/plain": [
              "<Figure size 800x500 with 1 Axes>"
            ]
          },
          "metadata": {},
          "output_type": "display_data"
        },
        {
          "data": {
            "image/png": "[encoded data removed]",
            "text/plain": [
              "<Figure size 800x500 with 1 Axes>"
            ]
          },
          "metadata": {},
          "output_type": "display_data"
        },
        {
          "data": {
            "image/png": "[encoded data removed]",
            "text/plain": [
              "<Figure size 800x500 with 1 Axes>"
            ]
          },
          "metadata": {},
          "output_type": "display_data"
        }
      ],
      "source": [
        "melt = tingkat_polusi.reset_index().melt(id_vars='waktu', var_name='Polusi', value_name='Rata-rata')\n",
        "\n",
        "def categorize(value, param):\n",
        "    if param == \"PM2.5\":\n",
        "        return 'Relatif Aman' if value <= 55.4 else 'Tidak Aman'\n",
        "    elif param == \"PM10\":\n",
        "        return 'Relatif Aman' if value <= 350 else 'Tidak Aman'\n",
        "    elif param == \"SO2\":\n",
        "        return 'Relatif Aman' if value <= 400 else 'Tidak Aman'\n",
        "    elif param == \"O3\":\n",
        "        return 'Relatif Aman' if value <= 400 else 'Tidak Aman'\n",
        "    elif param == \"NO2\":\n",
        "        return 'Relatif Aman' if value <= 1130 else 'Tidak Aman'\n",
        "    elif param == \"CO\":\n",
        "        return 'Relatif Aman'\n",
        "\n",
        "melt['Kategori'] = melt.apply(lambda row: categorize(row['Rata-rata'], row['Polusi']), axis=1)\n",
        "palette = {'Relatif Aman': 'blue', 'Tidak Aman': 'red'}\n",
        "\n",
        "for polusi in melt['Polusi'].unique():\n",
        "    plt.figure(figsize=(8, 5))\n",
        "    subset = melt[melt['Polusi'] == polusi]\n",
        "    sns.barplot(data=subset, x='waktu', y='Rata-rata', hue='Kategori', palette=palette)\n",
        "    \n",
        "    plt.title(f'Rata-rata jumlah partikel {polusi}')\n",
        "    plt.xlabel('Waktu')\n",
        "    plt.ylabel('Rata-rata Polusi')\n",
        "    plt.legend(title='')\n",
        "    plt.tight_layout()\n",
        "    \n",
        "    plt.show()"
      ]
    },
    {
      "cell_type": "markdown",
      "metadata": {},
      "source": [
        "- Menentukan apakah jumlah partikel yang terdapat di udara itu berada pada jumlah relatif aman (biru) atau tidak aman (merah)"
      ]
    },
    {
      "cell_type": "markdown",
      "metadata": {
        "id": "DgHI7CiU8DC2"
      },
      "source": [
        "### Pertanyaan 2:"
      ]
    },
    {
      "cell_type": "code",
      "execution_count": 15,
      "metadata": {
        "id": "Go0lCsvO8DC2"
      },
      "outputs": [
        {
          "name": "stderr",
          "output_type": "stream",
          "text": [
            "C:\\Users\\Lenovo\\AppData\\Local\\Temp\\ipykernel_19072\\939187476.py:9: FutureWarning: \n",
            "\n",
            "Passing `palette` without assigning `hue` is deprecated and will be removed in v0.14.0. Assign the `x` variable to `hue` and set `legend=False` for the same effect.\n",
            "\n",
            "  sns.barplot(data=temp_hujan.reset_index(), x='musim', y='TEMP', palette=warna)\n"
          ]
        },
        {
          "data": {
            "image/png": "[encoded data removed]",
            "text/plain": [
              "<Figure size 500x300 with 1 Axes>"
            ]
          },
          "metadata": {},
          "output_type": "display_data"
        }
      ],
      "source": [
        "warna = {\n",
        "    'Dingin': '#003366',   \n",
        "    'Gugur': '#66b3ff',   \n",
        "    'Semi': '#66b3ff',    \n",
        "    'Panas': '#ff9999'    \n",
        "}\n",
        "\n",
        "plt.figure(figsize=(5, 3))\n",
        "sns.barplot(data=temp_hujan.reset_index(), x='musim', y='TEMP', palette=warna)\n",
        "\n",
        "plt.title('Rata-rata Suhu Berdasarkan Musim')\n",
        "plt.xlabel('Musim')\n",
        "plt.ylabel('Suhu ( °C)')\n",
        "plt.grid(axis='y', linestyle='--', alpha=0.7)\n",
        "plt.tight_layout()\n",
        "\n",
        "plt.show()"
      ]
    },
    {
      "cell_type": "markdown",
      "metadata": {},
      "source": [
        "- Rata-rata suhu berdasarkan musim "
      ]
    },
    {
      "cell_type": "code",
      "execution_count": 16,
      "metadata": {},
      "outputs": [
        {
          "data": {
            "image/png": "[encoded data removed]",
            "text/plain": [
              "<Figure size 500x300 with 1 Axes>"
            ]
          },
          "metadata": {},
          "output_type": "display_data"
        }
      ],
      "source": [
        "plt.figure(figsize=(5, 3))\n",
        "sns.barplot(data=temp_hujan.reset_index(), x='musim', y='RAIN')\n",
        "\n",
        "plt.title('Rata-rata Curah Hujan Berdasarkan Musim')\n",
        "plt.xlabel('Musim')\n",
        "plt.ylabel('Curah Hujan (RAIN)')\n",
        "plt.grid(axis='y', linestyle='--', alpha=0.7)\n",
        "plt.tight_layout()\n",
        "\n",
        "plt.show()"
      ]
    },
    {
      "cell_type": "markdown",
      "metadata": {},
      "source": [
        "- Rata-rata curah hujan berdasarkan musim "
      ]
    },
    {
      "cell_type": "markdown",
      "metadata": {
        "id": "_0-36BDLklRg"
      },
      "source": [
        "### Pertanyaan 3:"
      ]
    },
    {
      "cell_type": "code",
      "execution_count": 17,
      "metadata": {},
      "outputs": [
        {
          "name": "stdout",
          "output_type": "stream",
          "text": [
            "        wd      WSPM\n",
            "musim               \n",
            "Dingin  NE  1.867163\n",
            "Gugur   NE  1.408498\n",
            "Panas   NE  1.477197\n",
            "Semi    SW  2.080876\n"
          ]
        }
      ],
      "source": [
        "print(arah_angin)"
      ]
    },
    {
      "cell_type": "markdown",
      "metadata": {},
      "source": [
        "- Menentukan Cenderung arah mata angin dengan kecepatannya"
      ]
    },
    {
      "cell_type": "markdown",
      "metadata": {
        "id": "_WeHlCeX8DC2"
      },
      "source": [
        "## Conclusion"
      ]
    },
    {
      "cell_type": "markdown",
      "metadata": {
        "id": "ZTcyR48Y8DC2"
      },
      "source": [
        "- Jumlah partikel-partikel yang terdapat dalam udara di sekitar Guanyuan termasuk sedikit(kategori: relatif aman), kecuali jumlah partikel PM2.5 yang termasuk ke dalam kategori: tidak aman. Berdasarkan Indeks Standar Pencemar Udara.\n",
        "- pada musim dingin, rata-rata suhu mencapai (- 0.17°C), arah mata angin sering ke NorthEast (1,8 m/s).\n",
        "- pada musim gugur, rata-rata suhu mencapai (- 13.0°C), arah mata angin sering ke NorthEast  (1,4 m/s).\n",
        "- pada musim panas, rata-rata suhu mencapai (- 26.1°C), arah mata angin sering ke NorthEast  (1,4 m/s).\n",
        "- pada musim semi, rata-rata suhu mencapai (- 15.0 °C), arah mata angin sering ke Southwest  (2,0 m/s).\n",
        "- curah hujan ringan di semua musim."
      ]
    },
    {
      "cell_type": "code",
      "execution_count": 18,
      "metadata": {},
      "outputs": [],
      "source": [
        "gy_df.to_csv(\"all_data.csv\", index=False)"
      ]
    }
  ],
  "metadata": {
    "colab": {
      "provenance": []
    },
    "kernelspec": {
      "display_name": "Python 3",
      "language": "python",
      "name": "python3"
    },
    "language_info": {
      "codemirror_mode": {
        "name": "ipython",
        "version": 3
      },
      "file_extension": ".py",
      "mimetype": "text/x-python",
      "name": "python",
      "nbconvert_exporter": "python",
      "pygments_lexer": "ipython3",
      "version": "3.9.19"
    },
    "orig_nbformat": 4,
    "vscode": {
      "interpreter": {
        "hash": "972b3bf27e332e87b5379f2791f6ef9dfc79c71018c370b0d7423235e20fe4d7"
      }
    }
  },
  "nbformat": 4,
  "nbformat_minor": 0
}
